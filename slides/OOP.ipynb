{
 "cells": [
  {
   "cell_type": "markdown",
   "metadata": {
    "slideshow": {
     "slide_type": "slide"
    }
   },
   "source": [
    "## OOP"
   ]
  },
  {
   "cell_type": "markdown",
   "metadata": {
    "slideshow": {
     "slide_type": "subslide"
    }
   },
   "source": [
    "## Objektově orientované programování\n",
    "- Odlišné od procedurálního\n",
    "- Výkonný kód přidružen k datům\n",
    "- Vychází z objektů reálného světa"
   ]
  },
  {
   "cell_type": "markdown",
   "metadata": {
    "slideshow": {
     "slide_type": "subslide"
    }
   },
   "source": [
    "## Encapsulation (zapouzdření)\n",
    "## Abstraction (abstrakce)\n",
    "## Inheritance (dědičnost)\n",
    "## Polymorphism (polymorfismus)\n"
   ]
  },
  {
   "cell_type": "markdown",
   "metadata": {
    "slideshow": {
     "slide_type": "subslide"
    }
   },
   "source": [
    "## Encapsulation (zapouzdření)\n",
    "\n",
    "\n",
    "- Spočívá ve sdružování dat s metodami, které pracují na daným datech.\n",
    "- ukrývání hodnot či stavů objektu uvnitř třídy, který zamezuje přímému přístupu k daným atributům\n",
    "- Pro modifikaci nebo zjištění stavu objektu se používají metody (tzv. „getter“ a „setter“)\n"
   ]
  },
  {
   "cell_type": "markdown",
   "metadata": {
    "slideshow": {
     "slide_type": "fragment"
    }
   },
   "source": [
    "![function](img/cat.png)"
   ]
  },
  {
   "cell_type": "code",
   "execution_count": 9,
   "metadata": {
    "slideshow": {
     "slide_type": "subslide"
    }
   },
   "outputs": [],
   "source": [
    "class Kocka:\n",
    "    def __init__(self):\n",
    "        self.pocet_zivotu = 9\n",
    "\n",
    "    def zamnoukej(self):\n",
    "        print(\"Mnau, mnau, mnauuu!\")\n",
    "\n",
    "    def je_ziva(self):\n",
    "        return self.pocet_zivotu > 0\n",
    "\n",
    "    def uber_zivot(self):\n",
    "        if not self.je_ziva():\n",
    "            print(\"Nemuzes zabit uz mrtvou kocku!\")\n",
    "        else:\n",
    "            self.pocet_zivotu -= 1\n",
    "\n",
    "    def snez(self, jidlo):\n",
    "        if not self.je_ziva():\n",
    "            print(\"Je zbytecne krmit mrtvou kocku!\")\n",
    "        if jidlo == \"ryba\" and self.pocet_zivotu < 9:\n",
    "            self.pocet_zivotu += 1\n",
    "            print(\"Kocka spapala rybu a obnovil se ji jeden zivot.\")\n",
    "        else:\n",
    "            print(\"Kocka se krmi.\")"
   ]
  },
  {
   "cell_type": "markdown",
   "metadata": {
    "slideshow": {
     "slide_type": "subslide"
    }
   },
   "source": [
    "## Abstraction (abstrakce)\n",
    "\n",
    "- Každý objekt pracuje jako černá skříňka \n",
    "- Není důležité znát způsob, kterým vnitřně pracuje\n",
    "- Důležitost správného pojmenování a kvalitní dokumentace"
   ]
  },
  {
   "cell_type": "markdown",
   "metadata": {
    "slideshow": {
     "slide_type": "fragment"
    }
   },
   "source": [
    "![function](img/phone.png)"
   ]
  },
  {
   "cell_type": "code",
   "execution_count": 12,
   "metadata": {
    "slideshow": {
     "slide_type": "subslide"
    }
   },
   "outputs": [],
   "source": [
    "class Kocka:\n",
    "\n",
    "    def zamnoukej(self):\n",
    "        \"\"\"Vypíše do konzole: Mňau!\"\"\"\n",
    "\n",
    "    def je_ziva(self):\n",
    "        \"\"\"Vrát False, pokud je počet životů 0, jinak vrátí True.\"\"\"\n",
    "\n",
    "    def uber_zivot(self):\n",
    "        \"\"\"Ubere jeden život, pokud už kočka nemá 0 životů.\"\"\"\n",
    "\n",
    "    def snez(self, jidlo):\n",
    "        \"\"\"Přidá jeden život, pokud kočka už nemá maximální počet životů a pokud jídlo je ryba.\"\"\"\n"
   ]
  },
  {
   "cell_type": "markdown",
   "metadata": {
    "slideshow": {
     "slide_type": "subslide"
    }
   },
   "source": [
    "## Inheritance (dědičnost)\n",
    "\n",
    "- Sdružení společného chování a vlastností do nadřazené třídy\n",
    "- Nadřazená třída je vždycky obecná a podtřídy konkrétní"
   ]
  },
  {
   "cell_type": "markdown",
   "metadata": {
    "slideshow": {
     "slide_type": "fragment"
    }
   },
   "source": [
    "![function](img/person.png)"
   ]
  },
  {
   "cell_type": "code",
   "execution_count": 8,
   "metadata": {
    "slideshow": {
     "slide_type": "subslide"
    }
   },
   "outputs": [],
   "source": [
    "class Kotatko:\n",
    "    def __init__(self, jmeno):\n",
    "        self.jmeno = jmeno\n",
    "\n",
    "    def snez(self, jidlo):\n",
    "        print(\"{}: {} mi chutná!\".format(self.jmeno, jidlo))\n",
    "\n",
    "    def zamnoukej(self):\n",
    "        print(\"{}: Mňau!\".format(self.jmeno))\n",
    "\n",
    "\n",
    "class Stenatko:\n",
    "    def __init__(self, jmeno):\n",
    "        self.jmeno = jmeno\n",
    "\n",
    "    def snez(self, jidlo):\n",
    "        print(\"{}: {} mi chutná!\".format(self.jmeno, jidlo))\n",
    "\n",
    "    def zastekej(self):\n",
    "        print(\"{}: Haf!\".format(self.jmeno))"
   ]
  },
  {
   "cell_type": "code",
   "execution_count": 17,
   "metadata": {
    "slideshow": {
     "slide_type": "subslide"
    }
   },
   "outputs": [
    {
     "name": "stdout",
     "output_type": "stream",
     "text": [
      "Micka: Mňau!\n",
      "Azorek: Haf!\n",
      "Micka: myš mi chutná!\n",
      "Azorek: kost mi chutná!\n"
     ]
    }
   ],
   "source": [
    "class Zviratko:\n",
    "    def __init__(self, jmeno):\n",
    "        self.jmeno = jmeno\n",
    "\n",
    "    def snez(self, jidlo):\n",
    "        print(\"{}: {} mi chutná!\".format(self.jmeno, jidlo))\n",
    "\n",
    "\n",
    "class Kotatko(Zviratko):\n",
    "    def zamnoukej(self):\n",
    "        print(\"{}: Mňau!\".format(self.jmeno))\n",
    "\n",
    "\n",
    "class Stenatko(Zviratko):\n",
    "    def zastekej(self):\n",
    "        print(\"{}: Haf!\".format(self.jmeno))\n",
    "\n",
    "\n",
    "micka = Kotatko('Micka')\n",
    "azorek = Stenatko('Azorek')\n",
    "micka.zamnoukej()\n",
    "azorek.zastekej()\n",
    "micka.snez('myš')\n",
    "azorek.snez('kost')"
   ]
  },
  {
   "cell_type": "markdown",
   "metadata": {
    "slideshow": {
     "slide_type": "subslide"
    }
   },
   "source": [
    "## Metoda super() pro přepisování metod"
   ]
  },
  {
   "cell_type": "markdown",
   "metadata": {
    "slideshow": {
     "slide_type": "subslide"
    }
   },
   "source": [
    "- Když se ti nebude líbit chování některé metody v nadtřídě, stačí dát metodu stejného jména do podtřídy:"
   ]
  },
  {
   "cell_type": "code",
   "execution_count": 20,
   "metadata": {
    "slideshow": {
     "slide_type": "subslide"
    }
   },
   "outputs": [
    {
     "name": "stdout",
     "output_type": "stream",
     "text": [
      "Micka: granule mi vůbec nechutná!\n"
     ]
    }
   ],
   "source": [
    "class Kotatko(Zviratko):\n",
    "    def snez(self, jidlo):\n",
    "        print(\"{}: {} mi vůbec nechutná!\".format(self.jmeno, jidlo))\n",
    "\n",
    "\n",
    "micka = Kotatko('Micka')\n",
    "micka.snez('granule')"
   ]
  },
  {
   "cell_type": "code",
   "execution_count": 21,
   "metadata": {
    "scrolled": true,
    "slideshow": {
     "slide_type": "fragment"
    }
   },
   "outputs": [
    {
     "name": "stdout",
     "output_type": "stream",
     "text": [
      "(Micka na granule chvíli fascinovaně kouká)\n",
      "Micka: granule mi chutná!\n"
     ]
    }
   ],
   "source": [
    "class Kotatko(Zviratko):\n",
    "    def snez(self, jidlo):\n",
    "        print(\"({} na {} chvíli fascinovaně kouká)\".format(self.jmeno, jidlo))\n",
    "        super().snez(jidlo)\n",
    "\n",
    "\n",
    "micka = Kotatko('Micka')\n",
    "micka.snez('granule')"
   ]
  },
  {
   "cell_type": "code",
   "execution_count": 22,
   "metadata": {
    "slideshow": {
     "slide_type": "fragment"
    }
   },
   "outputs": [
    {
     "name": "stdout",
     "output_type": "stream",
     "text": [
      "Ssstanissslav: myš mi chutná!\n"
     ]
    }
   ],
   "source": [
    "class Hadatko(Zviratko):\n",
    "    def __init__(self, jmeno):\n",
    "        jmeno = jmeno.replace('s', 'sss')\n",
    "        jmeno = jmeno.replace('S', 'Sss')\n",
    "        super().__init__(jmeno)\n",
    "\n",
    "\n",
    "standa = Hadatko('Stanislav')\n",
    "standa.snez('myš')"
   ]
  },
  {
   "cell_type": "markdown",
   "metadata": {
    "slideshow": {
     "slide_type": "subslide"
    }
   },
   "source": [
    "## Polymorphism (polymorfismus)\n",
    "\n",
    "- Rozšíření dědičnosti\n",
    "- Několik objektů poskytuje stejnou metodu, ale jejich konkrétní chování se liší podle implementace"
   ]
  },
  {
   "cell_type": "markdown",
   "metadata": {
    "slideshow": {
     "slide_type": "fragment"
    }
   },
   "source": [
    "![function](img/calc.png)"
   ]
  },
  {
   "cell_type": "code",
   "execution_count": 23,
   "metadata": {
    "slideshow": {
     "slide_type": "subslide"
    }
   },
   "outputs": [
    {
     "name": "stdout",
     "output_type": "stream",
     "text": [
      "Micka: flákota mi chutná!\n",
      "Azorek: flákota mi chutná!\n"
     ]
    }
   ],
   "source": [
    "class Zviratko:\n",
    "    def __init__(self, jmeno):\n",
    "        self.jmeno = jmeno\n",
    "\n",
    "    def snez(self, jidlo):\n",
    "        print(\"{}: {} mi chutná!\".format(self.jmeno, jidlo))\n",
    "\n",
    "\n",
    "class Kotatko(Zviratko):\n",
    "    def zamnoukej(self):\n",
    "        print(\"{}: Mňau!\".format(self.jmeno))\n",
    "\n",
    "\n",
    "class Stenatko(Zviratko):\n",
    "    def zastekej(self):\n",
    "        print(\"{}: Haf!\".format(self.jmeno))\n",
    "\n",
    "zviratka = [Kotatko('Micka'), Stenatko('Azorek')]\n",
    "\n",
    "for zviratko in zviratka:\n",
    "    zviratko.snez('flákota')"
   ]
  },
  {
   "cell_type": "code",
   "execution_count": 24,
   "metadata": {
    "slideshow": {
     "slide_type": "subslide"
    }
   },
   "outputs": [
    {
     "name": "stdout",
     "output_type": "stream",
     "text": [
      "Micka: Mňau!\n",
      "Micka: flákota mi chutná!\n",
      "Azorek: Haf!\n",
      "Azorek: flákota mi chutná!\n"
     ]
    }
   ],
   "source": [
    "class Zviratko:\n",
    "    def __init__(self, jmeno):\n",
    "        self.jmeno = jmeno\n",
    "\n",
    "    def snez(self, jidlo):\n",
    "        print(\"{}: {} mi chutná!\".format(self.jmeno, jidlo))\n",
    "\n",
    "\n",
    "class Kotatko(Zviratko):\n",
    "    def udelej_zvuk(self):\n",
    "        print(\"{}: Mňau!\".format(self.jmeno))\n",
    "\n",
    "\n",
    "class Stenatko(Zviratko):\n",
    "    def udelej_zvuk(self):\n",
    "        print(\"{}: Haf!\".format(self.jmeno))\n",
    "\n",
    "\n",
    "zviratka = [Kotatko('Micka'), Stenatko('Azorek')]\n",
    "\n",
    "for zviratko in zviratka:\n",
    "    zviratko.udelej_zvuk()\n",
    "    zviratko.snez('flákota')"
   ]
  }
 ],
 "metadata": {
  "celltoolbar": "Slideshow",
  "kernelspec": {
   "display_name": "Python 3",
   "language": "python",
   "name": "python3"
  },
  "language_info": {
   "codemirror_mode": {
    "name": "ipython",
    "version": 3
   },
   "file_extension": ".py",
   "mimetype": "text/x-python",
   "name": "python",
   "nbconvert_exporter": "python",
   "pygments_lexer": "ipython3",
   "version": "3.7.3"
  },
  "rise": {
   "scroll": true
  }
 },
 "nbformat": 4,
 "nbformat_minor": 2
}
