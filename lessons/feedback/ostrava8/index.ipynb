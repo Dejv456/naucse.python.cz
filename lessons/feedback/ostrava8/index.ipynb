{
 "cells": [
  {
   "cell_type": "markdown",
   "metadata": {
    "slideshow": {
     "slide_type": "slide"
    }
   },
   "source": [
    "# Feedback k domácím projektům"
   ]
  },
  {
   "cell_type": "markdown",
   "metadata": {
    "slideshow": {
     "slide_type": "slide"
    }
   },
   "source": [
    "## Globální proměnné nebrat"
   ]
  },
  {
   "cell_type": "markdown",
   "metadata": {},
   "source": [
    "V tomto příkladu sice máme funkce, ale ty nejsou příliš užitečné, protože ke svému fungování potřebují množství globálních proměnných."
   ]
  },
  {
   "cell_type": "code",
   "execution_count": null,
   "metadata": {},
   "outputs": [],
   "source": [
    "#Vytvoření prázdného slovníku\n",
    "slovnik_mocniny = dict()\n",
    "slovnik_klicu_a_hodnot = dict()\n",
    "\n",
    "#Uživatel zadá číslo n, n+1 zajistí, že se později vypíše číslo přesně do výše,\n",
    "#jakou uživatel zadal\n",
    "n = int(input('Zadej číslo, program vypočítá druhé mocniny od 1 až po toto číslo: '))\n",
    "n = n+1\n",
    "\n",
    "#Funkce k úkolu č. 0 - vypíše mocniny až do čísla daného uživatelem\n",
    "def mocniny():\n",
    "    for x in range(1,n):\n",
    "        slovnik_mocniny[x]=x**2\n",
    "    return(slovnik_mocniny)\n",
    "\n",
    "#Funkce k úkolu č. 1 - sečte klíče a hodnoty ve slovníku mocniny, přidá je do\n",
    "#slovníku soucet_klicu_a_hodnot\n",
    "def soucet_klicu_a_hodnot():\n",
    "    soucet_klicu = sum(slovnik_mocniny.keys())\n",
    "    soucet_hodnot = sum(slovnik_mocniny.values())\n",
    "    slovnik_klicu_a_hodnot = {soucet_klicu, soucet_hodnot}\n",
    "    return slovnik_klicu_a_hodnot"
   ]
  },
  {
   "cell_type": "markdown",
   "metadata": {
    "slideshow": {
     "slide_type": "slide"
    }
   },
   "source": [
    "Mnohem lepší přístup:"
   ]
  },
  {
   "cell_type": "code",
   "execution_count": null,
   "metadata": {},
   "outputs": [],
   "source": [
    "def mocniny(n):\n",
    "    \"\"\" Vytvori slovnik mocnin o velikosti n \"\"\"\n",
    "    slovnik = {}\n",
    "    for j in range(1, n+1):\n",
    "        slovnik[(j)] = j**2\n",
    "    return slovnik\n",
    "\n",
    "\n",
    "def soucet_klicu_a_hodnot(slovnik):\n",
    "    \"\"\" vrati soucty vsech klicu a vsech hodnot\"\"\"\n",
    "    return sum(slovnik.keys()), sum(slovnik.values())\n",
    "\n",
    "\n",
    "def vypis_slovnik(slovnik):\n",
    "    \"\"\" vypise obsah slovniku \"\"\"\n",
    "    for objekt in slovnik:\n",
    "        print(\"Klic \", objekt, \", hodnota \", slovnik[objekt], sep='')\n",
    "\n",
    "\n",
    "print(mocniny(4))\n",
    "print(soucet_klicu_a_hodnot(mocniny(4)))\n",
    "print(pocet_znaku(\"hello world\"))\n",
    "vypis_slovnik(mocniny(4))"
   ]
  },
  {
   "cell_type": "markdown",
   "metadata": {
    "slideshow": {
     "slide_type": "slide"
    }
   },
   "source": [
    "## Skautská hra"
   ]
  },
  {
   "cell_type": "code",
   "execution_count": null,
   "metadata": {},
   "outputs": [],
   "source": [
    "import random\n",
    "\n",
    "while True:\n",
    "    odpoved = input('Na kolik odpovědí chceš hrát? ')\n",
    "    try:\n",
    "        odpoved = int(odpoved)\n",
    "        break\n",
    "    except ValueError:\n",
    "        print('Musíš napsat celé číslo!')\n",
    "\n",
    "kdo = []\n",
    "s_kym = []\n",
    "co_delali = []\n",
    "kde = []\n",
    "kdy = []\n",
    "proc = []\n",
    "\n",
    "vsechno = [kdo,s_kym,co_delali,kde,kdy,proc]\n",
    "\n",
    "for i in range (odpoved):\n",
    "    kdo1 = input ('Kdo? ')\n",
    "    s_kym1 = input ('S kým? ')\n",
    "    co_delali1 = input ('Co dělali? ')\n",
    "    kde1 = input ('Kde? ')\n",
    "    kdy1 = input ('Kdy? ')\n",
    "    proc1 = input ('Proč? ')\n",
    "    print('')\n",
    "\n",
    "    kdo.append(kdo1)\n",
    "    s_kym.append(s_kym1)\n",
    "    co_delali.append(co_delali1)\n",
    "    kde.append(kde1)\n",
    "    kdy.append(kdy1)\n",
    "    proc.append(proc1)\n",
    "\n",
    "a=random.choice(kdo)\n",
    "b=random.choice(s_kym)\n",
    "c=random.choice(co_delali)\n",
    "d=random.choice(kde)\n",
    "e=random.choice(kdy)\n",
    "f=random.choice(proc)\n",
    "\n",
    "print(a, b, c, d, e, f)"
   ]
  },
  {
   "cell_type": "markdown",
   "metadata": {
    "slideshow": {
     "slide_type": "slide"
    }
   },
   "source": [
    "Řešení bez slovníků, ale hlavně takové, kde by nebylo úplně snadné přidat další otázky."
   ]
  },
  {
   "cell_type": "code",
   "execution_count": null,
   "metadata": {
    "slideshow": {
     "slide_type": "-"
    }
   },
   "outputs": [],
   "source": [
    "import random\n",
    "\n",
    "kdo_seznam = []\n",
    "s_kym_seznam = []\n",
    "kde_seznam = []\n",
    "co_delali_seznam = []\n",
    "proc_seznam = []\n",
    "for pocet in range(3):\n",
    "    kdo = input('Kdo? ')\n",
    "    kdo_seznam.append(kdo)\n",
    "    s_kym = input('S kým? ')\n",
    "    s_kym_seznam.append(s_kym)\n",
    "    kde = input('Kde? ')\n",
    "    kde_seznam.append(kde)\n",
    "    co_delali = input('Co dělali? ')\n",
    "    co_delali_seznam.append(co_delali)\n",
    "    proc = input('Proč? ')\n",
    "    proc_seznam.append(proc)\n",
    "print(random.choice(kdo_seznam), 's', random.choice(s_kym_seznam),'v', random.choice(kde_seznam), random.choice(co_delali_seznam), random.choice(proc_seznam))"
   ]
  },
  {
   "cell_type": "markdown",
   "metadata": {
    "slideshow": {
     "slide_type": "slide"
    }
   },
   "source": [
    "Řešení, kde přidání, změna či odebrání jakékoli otázky znamená jen změnu na jednom míste v seznamu otázek."
   ]
  },
  {
   "cell_type": "code",
   "execution_count": null,
   "metadata": {
    "slideshow": {
     "slide_type": "-"
    }
   },
   "outputs": [],
   "source": [
    "from random import choice\n",
    "\n",
    "otazky = ['Kdo', 'S kym', 'Co delali', 'Kde']\n",
    "\n",
    "odpovedi = {}\n",
    "for otazka in otazky:\n",
    "    odpovedi[otazka] = []\n",
    "\n",
    "# Alternativní cesta\n",
    "# odpovedi = {otazka: [] for otazka in otazky}\n",
    "    \n",
    "for otazka in otazky:\n",
    "    while True:\n",
    "        odpoved = input('Zadej odpoved na otazku {}? '.format(otazka))\n",
    "        if not odpoved:\n",
    "            break\n",
    "        else:\n",
    "            odpovedi[otazka].append(odpoved)\n",
    "\n",
    "veta = ''\n",
    "\n",
    "for otazka in otazky:\n",
    "    veta = veta + choice(odpovedi[otazka]) + ' '\n",
    "\n",
    "print(veta)"
   ]
  },
  {
   "cell_type": "markdown",
   "metadata": {
    "slideshow": {
     "slide_type": "slide"
    }
   },
   "source": [
    "## Seznam sám v sobě"
   ]
  },
  {
   "cell_type": "code",
   "execution_count": 3,
   "metadata": {},
   "outputs": [
    {
     "data": {
      "text/plain": [
       "[5, 5, 5, 5, 5, 5]"
      ]
     },
     "execution_count": 3,
     "metadata": {},
     "output_type": "execute_result"
    }
   ],
   "source": [
    "seznam = [5] * 6\n",
    "seznam"
   ]
  },
  {
   "cell_type": "code",
   "execution_count": 6,
   "metadata": {
    "slideshow": {
     "slide_type": "slide"
    }
   },
   "outputs": [
    {
     "data": {
      "text/plain": [
       "[5, 5, 5, 5, 5, [...]]"
      ]
     },
     "execution_count": 6,
     "metadata": {},
     "output_type": "execute_result"
    }
   ],
   "source": [
    "seznam[5] = seznam\n",
    "seznam"
   ]
  },
  {
   "cell_type": "code",
   "execution_count": 12,
   "metadata": {
    "slideshow": {
     "slide_type": "slide"
    }
   },
   "outputs": [
    {
     "data": {
      "text/plain": [
       "[5, 5, 5, 5, 5, [...]]"
      ]
     },
     "execution_count": 12,
     "metadata": {},
     "output_type": "execute_result"
    }
   ],
   "source": [
    "seznam[5]"
   ]
  },
  {
   "cell_type": "code",
   "execution_count": 8,
   "metadata": {
    "slideshow": {
     "slide_type": "slide"
    }
   },
   "outputs": [
    {
     "data": {
      "text/plain": [
       "[5, 5, 5, 5, 5, [...]]"
      ]
     },
     "execution_count": 8,
     "metadata": {},
     "output_type": "execute_result"
    }
   ],
   "source": [
    "seznam[5][5][5][5]"
   ]
  },
  {
   "cell_type": "code",
   "execution_count": 9,
   "metadata": {
    "slideshow": {
     "slide_type": "slide"
    }
   },
   "outputs": [
    {
     "data": {
      "text/plain": [
       "[5, 5, 5, 5, 5, [...]]"
      ]
     },
     "execution_count": 9,
     "metadata": {},
     "output_type": "execute_result"
    }
   ],
   "source": [
    "seznam[5][5][5][5][5][5][5][5][5][5][5][5][5][5][5][5]"
   ]
  },
  {
   "cell_type": "code",
   "execution_count": 11,
   "metadata": {
    "slideshow": {
     "slide_type": "slide"
    }
   },
   "outputs": [
    {
     "data": {
      "text/plain": [
       "[5, 5, 5, 5, 5, [...]]"
      ]
     },
     "execution_count": 11,
     "metadata": {},
     "output_type": "execute_result"
    }
   ],
   "source": [
    "seznam[5][5][5][5][5][5][5][5][5][5][5][5][5][5][5][5][5][5][5][5][5][5][5][5][5][5][5][5][5][5][5][5]"
   ]
  },
  {
   "cell_type": "code",
   "execution_count": 10,
   "metadata": {
    "slideshow": {
     "slide_type": "slide"
    }
   },
   "outputs": [
    {
     "data": {
      "text/plain": [
       "5"
      ]
     },
     "execution_count": 10,
     "metadata": {},
     "output_type": "execute_result"
    }
   ],
   "source": [
    "seznam[5][5][5][5][5][5][5][5][5][5][5][5][5][5][5][5][0]"
   ]
  },
  {
   "cell_type": "markdown",
   "metadata": {
    "slideshow": {
     "slide_type": "slide"
    }
   },
   "source": [
    "## Ukázky jednoduchých API"
   ]
  },
  {
   "cell_type": "code",
   "execution_count": 14,
   "metadata": {},
   "outputs": [],
   "source": [
    "import requests"
   ]
  },
  {
   "cell_type": "markdown",
   "metadata": {
    "slideshow": {
     "slide_type": "slide"
    }
   },
   "source": [
    "### Ano nebo ne?"
   ]
  },
  {
   "cell_type": "code",
   "execution_count": 29,
   "metadata": {},
   "outputs": [
    {
     "data": {
      "text/plain": [
       "{'answer': 'yes',\n",
       " 'forced': False,\n",
       " 'image': 'https://yesno.wtf/assets/yes/13-c3082a998e7758be8e582276f35d1336.gif'}"
      ]
     },
     "execution_count": 29,
     "metadata": {},
     "output_type": "execute_result"
    }
   ],
   "source": [
    "response = requests.get(\"https://yesno.wtf/api\")\n",
    "\n",
    "response.raise_for_status()\n",
    "\n",
    "data = response.json()\n",
    "\n",
    "data"
   ]
  },
  {
   "cell_type": "code",
   "execution_count": 30,
   "metadata": {},
   "outputs": [
    {
     "data": {
      "text/plain": [
       "'yes'"
      ]
     },
     "execution_count": 30,
     "metadata": {},
     "output_type": "execute_result"
    }
   ],
   "source": [
    "data[\"answer\"]"
   ]
  },
  {
   "cell_type": "code",
   "execution_count": 31,
   "metadata": {
    "slideshow": {
     "slide_type": "slide"
    }
   },
   "outputs": [
    {
     "data": {
      "text/plain": [
       "'https://yesno.wtf/assets/yes/13-c3082a998e7758be8e582276f35d1336.gif'"
      ]
     },
     "execution_count": 31,
     "metadata": {},
     "output_type": "execute_result"
    }
   ],
   "source": [
    "data[\"image\"]"
   ]
  },
  {
   "cell_type": "markdown",
   "metadata": {},
   "source": [
    "![image](https://yesno.wtf/assets/yes/13-c3082a998e7758be8e582276f35d1336.gif)"
   ]
  },
  {
   "cell_type": "markdown",
   "metadata": {
    "slideshow": {
     "slide_type": "slide"
    }
   },
   "source": [
    "### Náhodná rada do života"
   ]
  },
  {
   "cell_type": "code",
   "execution_count": 12,
   "metadata": {},
   "outputs": [
    {
     "data": {
      "text/plain": [
       "{'slip': {'advice': 'A nod is as good as a wink to a blind horse.',\n",
       "  'slip_id': '120'}}"
      ]
     },
     "execution_count": 12,
     "metadata": {},
     "output_type": "execute_result"
    }
   ],
   "source": [
    "response = requests.get(\"https://api.adviceslip.com/advice\")\n",
    "\n",
    "response.raise_for_status()\n",
    "\n",
    "data = response.json()\n",
    "\n",
    "data"
   ]
  },
  {
   "cell_type": "code",
   "execution_count": 13,
   "metadata": {},
   "outputs": [
    {
     "data": {
      "text/plain": [
       "'A nod is as good as a wink to a blind horse.'"
      ]
     },
     "execution_count": 13,
     "metadata": {},
     "output_type": "execute_result"
    }
   ],
   "source": [
    "data[\"slip\"][\"advice\"]"
   ]
  },
  {
   "cell_type": "markdown",
   "metadata": {
    "slideshow": {
     "slide_type": "slide"
    }
   },
   "source": [
    "### Texty písní"
   ]
  },
  {
   "cell_type": "code",
   "execution_count": 5,
   "metadata": {},
   "outputs": [
    {
     "name": "stdout",
     "output_type": "stream",
     "text": [
      "Is this the real life? Is this just fantasy?\n",
      "Caught in a landslide, no escape from reality\n",
      "Open your eyes, look up to the skies and see\n",
      "\n",
      "I'm just a poor boy, I need no sympathy\n",
      "Because I'm easy come, easy go, little high, little low\n",
      "Anyway the wind blows, doesn't really matter to me, to me\n",
      "\n",
      "Mama, just killed a man\n",
      "Put a gun against his head, pulled my trigger, now he's dead\n",
      "Mama, life had just begun\n",
      "But now I've gone and thrown it all away\n",
      "\n",
      "Mama, ooh, didn't mean to make you cry\n",
      "If I'm not back again this time tomorrow\n",
      "Carry on, carry on, as if nothing really matters\n",
      "\n",
      "Too late, my time has come\n",
      "Sends shivers down my spine, body's aching all the time\n",
      "Goodbye, everybody, I've got to go\n",
      "Gotta leave you all behind and face the truth\n",
      "\n",
      "Mama, ooh, (Any way the wind blows) I don't wanna die\n",
      "I sometimes wish I'd never been born at all\n",
      "\n",
      "I see a little silhouetto of a man\n",
      "Scaramouche, Scaramouche, will you do the Fandango?\n",
      "Thunderbolts and lightning, very, very frightening me\n",
      "\n",
      "Galileo (Galileo), Galileo (Galileo)\n",
      "Galileo, Figaro, Magnifico, oh, oh, oh, oh, oh\n",
      "\n",
      "I'm just a poor boy, nobody loves me\n",
      "He's just a poor boy from a poor family\n",
      "Spare him his life from this monstrosity\n",
      "\n",
      "Easy come, easy go, will you let me go?\n",
      "Bismillah, no, we will not let you go (Let him go)\n",
      "Bismillah, we will not let you go (Let him go)\n",
      "Bismillah, we will not let you go (Let me go)\n",
      "Never let you go (Let me go)\n",
      "Never let you go (Never, never, never let me go, oh, oh, oh)\n",
      "No, no, no, no, no, no, no\n",
      "\n",
      "Oh, mamma mia, mamma mia\n",
      "Mamma mia, let me go\n",
      "Beelzebub has a devil put aside\n",
      "For me, for me, for me\n",
      "\n",
      "So you think you can stone me and spit in my eye?\n",
      "So you think you can love me and leave me to die?\n",
      "Oh baby, can't do this to me, baby\n",
      "Just gotta get out, just gotta get right out of here\n",
      "\n",
      "Ooh-ooh-ooh\n",
      "Ooh-yeah, ooh-yeah\n",
      "\n",
      "Nothing really matters, anyone can see\n",
      "Nothing really matters, nothing really matters to me\n",
      "\n",
      "Any way the wind blows\n"
     ]
    }
   ],
   "source": [
    "artist = \"Queen\"\n",
    "title = \"Bohemian Rhapsody\"\n",
    "\n",
    "response = requests.get(\"https://api.lyrics.ovh/v1/{}/{}\".format(artist, title))\n",
    "\n",
    "response.raise_for_status()\n",
    "\n",
    "data = response.json()\n",
    "text = data[\"lyrics\"]\n",
    "\n",
    "print(text)"
   ]
  },
  {
   "cell_type": "markdown",
   "metadata": {
    "slideshow": {
     "slide_type": "slide"
    }
   },
   "source": [
    "### Počasí"
   ]
  },
  {
   "cell_type": "code",
   "execution_count": 36,
   "metadata": {},
   "outputs": [
    {
     "data": {
      "text/plain": [
       "{'consolidated_weather': [{'id': 4827330616754176,\n",
       "   'weather_state_name': 'Light Cloud',\n",
       "   'weather_state_abbr': 'lc',\n",
       "   'wind_direction_compass': 'NNE',\n",
       "   'created': '2019-04-01T15:40:43.519403Z',\n",
       "   'applicable_date': '2019-04-01',\n",
       "   'min_temp': 6.23,\n",
       "   'max_temp': 16.87,\n",
       "   'the_temp': 16.0,\n",
       "   'wind_speed': 5.624506348275404,\n",
       "   'wind_direction': 15.843933712230228,\n",
       "   'air_pressure': 1021.44,\n",
       "   'humidity': 53,\n",
       "   'visibility': 14.091766583154378,\n",
       "   'predictability': 70},\n",
       "  {'id': 5566602449780736,\n",
       "   'weather_state_name': 'Light Cloud',\n",
       "   'weather_state_abbr': 'lc',\n",
       "   'wind_direction_compass': 'SE',\n",
       "   'created': '2019-04-01T15:40:46.702324Z',\n",
       "   'applicable_date': '2019-04-02',\n",
       "   'min_temp': 6.324999999999999,\n",
       "   'max_temp': 16.495,\n",
       "   'the_temp': 14.040000000000001,\n",
       "   'wind_speed': 8.848418440266178,\n",
       "   'wind_direction': 141.6650057162162,\n",
       "   'air_pressure': 1016.7,\n",
       "   'humidity': 51,\n",
       "   'visibility': 15.103980255308995,\n",
       "   'predictability': 70},\n",
       "  {'id': 6239291585855488,\n",
       "   'weather_state_name': 'Heavy Cloud',\n",
       "   'weather_state_abbr': 'hc',\n",
       "   'wind_direction_compass': 'SSE',\n",
       "   'created': '2019-04-01T15:40:50.333305Z',\n",
       "   'applicable_date': '2019-04-03',\n",
       "   'min_temp': 8.459999999999999,\n",
       "   'max_temp': 18.935,\n",
       "   'the_temp': 17.6,\n",
       "   'wind_speed': 10.249016933365146,\n",
       "   'wind_direction': 152.0369435066321,\n",
       "   'air_pressure': 1007.515,\n",
       "   'humidity': 56,\n",
       "   'visibility': 13.653078521434821,\n",
       "   'predictability': 71},\n",
       "  {'id': 5814165388132352,\n",
       "   'weather_state_name': 'Light Cloud',\n",
       "   'weather_state_abbr': 'lc',\n",
       "   'wind_direction_compass': 'SSE',\n",
       "   'created': '2019-04-01T15:40:52.521424Z',\n",
       "   'applicable_date': '2019-04-04',\n",
       "   'min_temp': 10.945,\n",
       "   'max_temp': 16.915,\n",
       "   'the_temp': 16.5,\n",
       "   'wind_speed': 11.391530074339192,\n",
       "   'wind_direction': 160.16280146794102,\n",
       "   'air_pressure': 1002.565,\n",
       "   'humidity': 55,\n",
       "   'visibility': 13.370976000159072,\n",
       "   'predictability': 70},\n",
       "  {'id': 5800497996890112,\n",
       "   'weather_state_name': 'Showers',\n",
       "   'weather_state_abbr': 's',\n",
       "   'wind_direction_compass': 'SE',\n",
       "   'created': '2019-04-01T15:40:55.517305Z',\n",
       "   'applicable_date': '2019-04-05',\n",
       "   'min_temp': 5.91,\n",
       "   'max_temp': 10.305,\n",
       "   'the_temp': 9.469999999999999,\n",
       "   'wind_speed': 6.654490472305734,\n",
       "   'wind_direction': 133.01467370354433,\n",
       "   'air_pressure': 1005.3655,\n",
       "   'humidity': 71,\n",
       "   'visibility': 7.865937922532411,\n",
       "   'predictability': 73},\n",
       "  {'id': 5218222536130560,\n",
       "   'weather_state_name': 'Heavy Cloud',\n",
       "   'weather_state_abbr': 'hc',\n",
       "   'wind_direction_compass': 'NNE',\n",
       "   'created': '2019-04-01T15:40:58.514664Z',\n",
       "   'applicable_date': '2019-04-06',\n",
       "   'min_temp': 4.58,\n",
       "   'max_temp': 13.9,\n",
       "   'the_temp': 6.1,\n",
       "   'wind_speed': 2.9785608048993875,\n",
       "   'wind_direction': 22.50000000000001,\n",
       "   'air_pressure': 1010.0,\n",
       "   'humidity': 75,\n",
       "   'visibility': 9.997862483098704,\n",
       "   'predictability': 71}],\n",
       " 'time': '2019-04-01T20:37:07.101346+02:00',\n",
       " 'sun_rise': '2019-04-01T06:33:42.385539+02:00',\n",
       " 'sun_set': '2019-04-01T19:24:13.588295+02:00',\n",
       " 'timezone_name': 'LMT',\n",
       " 'parent': {'title': 'Austria',\n",
       "  'location_type': 'Country',\n",
       "  'woeid': 23424750,\n",
       "  'latt_long': '47.696510,13.345770'},\n",
       " 'sources': [{'title': 'BBC',\n",
       "   'slug': 'bbc',\n",
       "   'url': 'http://www.bbc.co.uk/weather/',\n",
       "   'crawl_rate': 180},\n",
       "  {'title': 'Forecast.io',\n",
       "   'slug': 'forecast-io',\n",
       "   'url': 'http://forecast.io/',\n",
       "   'crawl_rate': 480},\n",
       "  {'title': 'HAMweather',\n",
       "   'slug': 'hamweather',\n",
       "   'url': 'http://www.hamweather.com/',\n",
       "   'crawl_rate': 360},\n",
       "  {'title': 'Met Office',\n",
       "   'slug': 'met-office',\n",
       "   'url': 'http://www.metoffice.gov.uk/',\n",
       "   'crawl_rate': 180},\n",
       "  {'title': 'OpenWeatherMap',\n",
       "   'slug': 'openweathermap',\n",
       "   'url': 'http://openweathermap.org/',\n",
       "   'crawl_rate': 360},\n",
       "  {'title': 'Weather Underground',\n",
       "   'slug': 'wunderground',\n",
       "   'url': 'https://www.wunderground.com/?apiref=fc30dc3cd224e19b',\n",
       "   'crawl_rate': 720},\n",
       "  {'title': 'World Weather Online',\n",
       "   'slug': 'world-weather-online',\n",
       "   'url': 'http://www.worldweatheronline.com/',\n",
       "   'crawl_rate': 360},\n",
       "  {'title': 'Yahoo',\n",
       "   'slug': 'yahoo',\n",
       "   'url': 'http://weather.yahoo.com/',\n",
       "   'crawl_rate': 180}],\n",
       " 'title': 'Vienna',\n",
       " 'location_type': 'City',\n",
       " 'woeid': 551801,\n",
       " 'latt_long': '48.202541,16.368799',\n",
       " 'timezone': 'Europe/Vienna'}"
      ]
     },
     "execution_count": 36,
     "metadata": {},
     "output_type": "execute_result"
    }
   ],
   "source": [
    "location = \"551801\"\n",
    "\n",
    "response = requests.get(\"https://www.metaweather.com/api/location/{}/\".format(location))\n",
    "\n",
    "response.raise_for_status()\n",
    "\n",
    "data = response.json()\n",
    "\n",
    "data"
   ]
  },
  {
   "cell_type": "code",
   "execution_count": 37,
   "metadata": {
    "slideshow": {
     "slide_type": "slide"
    }
   },
   "outputs": [
    {
     "name": "stdout",
     "output_type": "stream",
     "text": [
      "2019-04-01 6.23 16.87\n",
      "2019-04-02 6.32 16.5\n",
      "2019-04-03 8.46 18.93\n",
      "2019-04-04 10.95 16.91\n",
      "2019-04-05 5.91 10.3\n",
      "2019-04-06 4.58 13.9\n"
     ]
    }
   ],
   "source": [
    "for day in data[\"consolidated_weather\"]:\n",
    "    print(day[\"applicable_date\"], round(day[\"min_temp\"], 2), round(day[\"max_temp\"], 2))"
   ]
  },
  {
   "cell_type": "markdown",
   "metadata": {
    "slideshow": {
     "slide_type": "slide"
    }
   },
   "source": [
    "### Oxford dictionary"
   ]
  },
  {
   "cell_type": "code",
   "execution_count": 32,
   "metadata": {},
   "outputs": [
    {
     "data": {
      "text/plain": [
       "{'metadata': {'provider': 'Oxford University Press'},\n",
       " 'results': [{'id': 'python',\n",
       "   'language': 'en',\n",
       "   'lexicalEntries': [{'derivatives': [{'id': 'pythonic', 'text': 'pythonic'}],\n",
       "     'entries': [{'etymologies': ['late 16th century (in the Greek sense): via Latin from Greek Puthōn, the name of a huge serpent killed by Apollo. The main current sense dates from the mid 19th century'],\n",
       "       'grammaticalFeatures': [{'text': 'Singular', 'type': 'Number'}],\n",
       "       'homographNumber': '000',\n",
       "       'senses': [{'definitions': ['a large heavy-bodied non-venomous snake occurring throughout the Old World tropics, killing prey by constriction and asphyxiation.'],\n",
       "         'domains': ['Reptile'],\n",
       "         'id': 'm_en_gbus0833540.009',\n",
       "         'notes': [{'text': 'Family Pythonidae: genera Python (of Asia and Africa), and Morelia and Aspidites (of Australasia)',\n",
       "           'type': 'technicalNote'}],\n",
       "         'short_definitions': ['large heavy-bodied non-venomous snake occurring throughout Old World tropics']},\n",
       "        {'definitions': ['a high-level general-purpose programming language.'],\n",
       "         'domains': ['Computing'],\n",
       "         'id': 'm_en_gbus0833540.014',\n",
       "         'notes': [{'text': 'mass noun', 'type': 'grammaticalNote'}],\n",
       "         'short_definitions': ['high-level general-purpose programming language'],\n",
       "         'variantForms': [{'text': 'Python'}]}]}],\n",
       "     'language': 'en',\n",
       "     'lexicalCategory': 'Noun',\n",
       "     'pronunciations': [{'audioFile': 'http://audio.oxforddictionaries.com/en/mp3/python_gb_1.mp3',\n",
       "       'dialects': ['British English'],\n",
       "       'phoneticNotation': 'IPA',\n",
       "       'phoneticSpelling': 'ˈpʌɪθ(ə)n'}],\n",
       "     'text': 'python'}],\n",
       "   'type': 'headword',\n",
       "   'word': 'python'}]}"
      ]
     },
     "execution_count": 32,
     "metadata": {},
     "output_type": "execute_result"
    }
   ],
   "source": [
    "app_id = '8206c2a3'\n",
    "app_key = 'bf9aacede374e4d731fb020edd801642'\n",
    "language = 'en'\n",
    "word = 'python'\n",
    "\n",
    "url = \"https://od-api.oxforddictionaries.com:443/api/v1/entries/{}/{}\".format(language, word)\n",
    "response = requests.get(url, headers = {'app_id' : app_id, 'app_key' : app_key})\n",
    "\n",
    "data = response.json()\n",
    "\n",
    "data"
   ]
  },
  {
   "cell_type": "code",
   "execution_count": 33,
   "metadata": {
    "slideshow": {
     "slide_type": "slide"
    }
   },
   "outputs": [
    {
     "data": {
      "text/plain": [
       "[{'definitions': ['a large heavy-bodied non-venomous snake occurring throughout the Old World tropics, killing prey by constriction and asphyxiation.'],\n",
       "  'domains': ['Reptile'],\n",
       "  'id': 'm_en_gbus0833540.009',\n",
       "  'notes': [{'text': 'Family Pythonidae: genera Python (of Asia and Africa), and Morelia and Aspidites (of Australasia)',\n",
       "    'type': 'technicalNote'}],\n",
       "  'short_definitions': ['large heavy-bodied non-venomous snake occurring throughout Old World tropics']},\n",
       " {'definitions': ['a high-level general-purpose programming language.'],\n",
       "  'domains': ['Computing'],\n",
       "  'id': 'm_en_gbus0833540.014',\n",
       "  'notes': [{'text': 'mass noun', 'type': 'grammaticalNote'}],\n",
       "  'short_definitions': ['high-level general-purpose programming language'],\n",
       "  'variantForms': [{'text': 'Python'}]}]"
      ]
     },
     "execution_count": 33,
     "metadata": {},
     "output_type": "execute_result"
    }
   ],
   "source": [
    "data[\"results\"][0][\"lexicalEntries\"][0][\"entries\"][0][\"senses\"]"
   ]
  },
  {
   "cell_type": "markdown",
   "metadata": {
    "slideshow": {
     "slide_type": "slide"
    }
   },
   "source": [
    "## Obecné rady a postřehy"
   ]
  },
  {
   "cell_type": "markdown",
   "metadata": {
    "slideshow": {
     "slide_type": "-"
    }
   },
   "source": [
    "* Ptejte se na Slacku na cokoli. Co bude zajímavé pro více lidí, to zpracujeme do hodiny.\n",
    "* Pokud máte úkoly na githubu:\n",
    "  * Odevzdejte na Dropbox jen odkaz v souboru `.txt` nikoli `.docx`\n",
    "  * Pokud vám Martin nezaloží issue, je ve vašem úkolu vše v pořádku\n",
    "* Pochvala za validaci inputů\n",
    "  * Ještě větší pochvala za validaci s pomocí výjimek\n",
    "* Pochvala za dokumentační řetězce\n",
    "  * Ještě větší pochvala za dokumentační řetězce ve třech uvozovkách\n",
    "    * A ještě větší pochvala těm, kdož jsou konzistentní a dávají dokumentační řetězce úplně všude"
   ]
  }
 ],
 "metadata": {
  "celltoolbar": "Slideshow",
  "kernelspec": {
   "display_name": "Python 3",
   "language": "python",
   "name": "python3"
  },
  "language_info": {
   "codemirror_mode": {
    "name": "ipython",
    "version": 3
   },
   "file_extension": ".py",
   "mimetype": "text/x-python",
   "name": "python",
   "nbconvert_exporter": "python",
   "pygments_lexer": "ipython3",
   "version": "3.7.2"
  }
 },
 "nbformat": 4,
 "nbformat_minor": 2
}
