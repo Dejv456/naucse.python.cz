{
 "cells": [
  {
   "cell_type": "markdown",
   "metadata": {
    "slideshow": {
     "slide_type": "slide"
    }
   },
   "source": [
    "# Feedback k domácím projektům"
   ]
  },
  {
   "cell_type": "markdown",
   "metadata": {
    "slideshow": {
     "slide_type": "slide"
    }
   },
   "source": [
    "## Řešení 1"
   ]
  },
  {
   "cell_type": "code",
   "execution_count": 1,
   "metadata": {},
   "outputs": [],
   "source": [
    "from math import pi\n",
    "\n",
    "class Tvar:\n",
    "    def rozdil_obsahu(self, jiny_tvar):\n",
    "        return abs(self.obsah() - jiny_tvar.obsah())\n",
    "\n",
    "class Ctverec(Tvar):\n",
    "    def __init__(self, strana):\n",
    "        self.strana = strana\n",
    "\n",
    "    def obvod(self):\n",
    "        return self.strana * 4\n",
    "\n",
    "    def obsah(self):\n",
    "        return self.strana ** 2\n",
    "\n",
    "class Kruh(Tvar):\n",
    "    def __init__(self, polomer):\n",
    "        self.polomer = polomer\n",
    "\n",
    "    def obvod(self):\n",
    "        return 2 * pi * self.polomer\n",
    "\n",
    "    def obsah(self):\n",
    "        return pi * (self.polomer ** 2)\n",
    "\n",
    "class Obdelnik(Tvar):\n",
    "    def __init__(self, strana_prvni, strana_druha):\n",
    "        self.strana_prvni = strana_prvni\n",
    "        self.strana_druha = strana_druha\n",
    "\n",
    "    def obvod(self):\n",
    "        return 2 * (self.strana_prvni + self.strana_druha)\n",
    "\n",
    "    def obsah(self):\n",
    "        return self.strana_prvni * self.strana_druha"
   ]
  },
  {
   "cell_type": "markdown",
   "metadata": {},
   "source": [
    "## Řešení 2"
   ]
  },
  {
   "cell_type": "code",
   "execution_count": 2,
   "metadata": {},
   "outputs": [],
   "source": [
    "from math import pi\n",
    "\n",
    "class Tvary:\n",
    "    def __init__(self, delka):\n",
    "        self.delka = delka\n",
    "        \n",
    "    def rozdil_obsahu(self, jiny_objekt):\n",
    "        return abs(self.obsah() - jiny_objekt.obsah())\n",
    "\n",
    "class Ctverec(Tvary):\n",
    "    def obvod(self):\n",
    "        return self.delka*4\n",
    "\n",
    "    def obsah(self):\n",
    "        return self.delka * self.delka\n",
    "\n",
    "\n",
    "class Kruh(Tvary):\n",
    "    def obvod(self):\n",
    "        return(round( 2 * pi * self.delka, 2))\n",
    "\n",
    "    def obsah(self):\n",
    "        return(round(pi * self.delka ** 2, 2))\n",
    "\n",
    "class Obdelnik(Tvary):\n",
    "    def __init__(self, delka, delka_2):\n",
    "        self.delka_2 = delka_2\n",
    "        super().__init__(delka)\n",
    "\n",
    "    def obvod(self):\n",
    "        return(round(2 * self.delka + 2 * self.delka_2, 2))\n",
    "\n",
    "    def obsah(self):\n",
    "        return(round(self.delka * self.delka_2, 2))"
   ]
  }
 ],
 "metadata": {
  "kernelspec": {
   "display_name": "Python 3",
   "language": "python",
   "name": "python3"
  },
  "language_info": {
   "codemirror_mode": {
    "name": "ipython",
    "version": 3
   },
   "file_extension": ".py",
   "mimetype": "text/x-python",
   "name": "python",
   "nbconvert_exporter": "python",
   "pygments_lexer": "ipython3",
   "version": "3.7.5"
  }
 },
 "nbformat": 4,
 "nbformat_minor": 2
}
