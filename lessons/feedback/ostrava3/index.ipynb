{
 "cells": [
  {
   "cell_type": "markdown",
   "metadata": {
    "slideshow": {
     "slide_type": "slide"
    }
   },
   "source": [
    "# Feedback k domácím projektům"
   ]
  },
  {
   "cell_type": "markdown",
   "metadata": {
    "slideshow": {
     "slide_type": "slide"
    }
   },
   "source": [
    "## Nejmenší číslo"
   ]
  },
  {
   "cell_type": "markdown",
   "metadata": {
    "slideshow": {
     "slide_type": "fragment"
    }
   },
   "source": [
    "### Upovídané řešení z domácích projektů"
   ]
  },
  {
   "cell_type": "code",
   "execution_count": null,
   "metadata": {
    "slideshow": {
     "slide_type": "-"
    }
   },
   "outputs": [],
   "source": [
    "n1 = int(input('Zadej prvni cele cislo:'))\n",
    "n2 = int(input('Zadej druhe cele cislo:'))\n",
    "n3 = int(input('Zadej treti cele cislo:'))\n",
    "n4 = int(input('Zadej ctvrte cele cislo:'))\n",
    "n5 = int(input('Zadej pate cele cislo:'))\n",
    "\n",
    "if n1 < n2 and n1 < n3 and n1 < n4 and n1 < n5:\n",
    "    print('Nejnizsi zadane cislo je:',n1)\n",
    "elif n2 < n1 and n2 < n3 and n2 < n4 and n2 < n5:\n",
    "    print('Nejnizsi zadane cislo je:',n2)\n",
    "elif n3 < n1 and n3 < n2 and n3 < n4 and n3 < n5:\n",
    "    print('Nejnizsi zadane cislo je:',n3)\n",
    "elif n4 < n1 and n4 < n2 and n4 < n3 and n4 < n5:\n",
    "    print('Nejnizsi zadane cislo je:',n4)\n",
    "elif n5 < n1 and n5 < n2 and n5 < n3 and n5 < n4:\n",
    "    print('Nejnizsi zadane cislo je:',n5)"
   ]
  },
  {
   "cell_type": "markdown",
   "metadata": {
    "slideshow": {
     "slide_type": "slide"
    }
   },
   "source": [
    "### Lepší, ale pořád ne optimální"
   ]
  },
  {
   "cell_type": "code",
   "execution_count": null,
   "metadata": {
    "slideshow": {
     "slide_type": "-"
    }
   },
   "outputs": [],
   "source": [
    "a = float(input('Prvni cislo: '))\n",
    "b = float(input('Druhe cislo: '))\n",
    "c = float(input('Treti cislo: '))\n",
    "d = float(input('Ctrvte cislo: '))\n",
    "e = float(input('Pate cislo: '))\n",
    "\n",
    "\n",
    "m = a\n",
    "\n",
    "for cislo in a, b, c, d, e:\n",
    "  if cislo < m:\n",
    "      m=cislo\n",
    "print(m)"
   ]
  },
  {
   "cell_type": "markdown",
   "metadata": {
    "slideshow": {
     "slide_type": "slide"
    }
   },
   "source": [
    "### Kratší a méně náročné řešení"
   ]
  },
  {
   "cell_type": "code",
   "execution_count": null,
   "metadata": {
    "slideshow": {
     "slide_type": "-"
    }
   },
   "outputs": [],
   "source": [
    "a = float(input('Napište libovolné číslo: '))\n",
    "for cislo in range(4):\n",
    "    b = float(input('Napište libovolné číslo: '))\n",
    "    if b < a:\n",
    "        a = b\n",
    "print(a)"
   ]
  },
  {
   "cell_type": "markdown",
   "metadata": {
    "slideshow": {
     "slide_type": "slide"
    }
   },
   "source": [
    "## N-úhelníky v řadě"
   ]
  },
  {
   "cell_type": "markdown",
   "metadata": {
    "slideshow": {
     "slide_type": "slide"
    }
   },
   "source": [
    "### Upovídané řešení z domácích projektů"
   ]
  },
  {
   "cell_type": "code",
   "execution_count": null,
   "metadata": {
    "slideshow": {
     "slide_type": "-"
    }
   },
   "outputs": [],
   "source": [
    "from turtle import forward, left, right, exitonclick, shape, penup, pendown\n",
    "shape('turtle')\n",
    "\n",
    "for i in range(5):\n",
    "    forward(50)\n",
    "    right(180+(((5-2)*180)/5))\n",
    "penup()\n",
    "forward(150)\n",
    "pendown()\n",
    "\n",
    "for i in range(6):\n",
    "    forward(50)\n",
    "    right(180+(((6-2)*180)/6))\n",
    "penup()\n",
    "forward(150)\n",
    "pendown()\n",
    "\n",
    "for i in range(7):\n",
    "    forward(50)\n",
    "    right(180+(((7-2)*180)/7))\n",
    "penup()\n",
    "forward(150)\n",
    "pendown()\n",
    "\n",
    "for i in range(8):\n",
    "    forward(50)\n",
    "    right(180+(((8-2)*180)/8))\n",
    "penup()\n",
    "forward(150)\n",
    "pendown()\n",
    "\n",
    "for i in range(9):\n",
    "    forward(50)\n",
    "    right(180+(((9-2)*180)/9))\n",
    "penup()\n",
    "forward(150)\n",
    "pendown()\n",
    "\n",
    "exitonclick()"
   ]
  },
  {
   "cell_type": "markdown",
   "metadata": {
    "slideshow": {
     "slide_type": "slide"
    }
   },
   "source": [
    "### Kratší řešení s využitím cyklu v dalším cyklu"
   ]
  },
  {
   "cell_type": "code",
   "execution_count": null,
   "metadata": {
    "slideshow": {
     "slide_type": "-"
    }
   },
   "outputs": [],
   "source": [
    "from turtle import forward, left, penup, pendown, exitonclick\n",
    "\n",
    "for n in range(5, 9):\n",
    "    for uhelniky in range(n):\n",
    "        forward(200/n)\n",
    "        left(360/n)\n",
    "\n",
    "    penup()\n",
    "    forward(100)\n",
    "    pendown()\n",
    "\n",
    "exitonclick()"
   ]
  },
  {
   "cell_type": "markdown",
   "metadata": {
    "slideshow": {
     "slide_type": "slide"
    }
   },
   "source": [
    "## Kytka"
   ]
  },
  {
   "cell_type": "code",
   "execution_count": null,
   "metadata": {},
   "outputs": [],
   "source": [
    "from turtle import forward, left, speed, exitonclick, right, circle, speed\n",
    "\n",
    "speed(0)\n",
    "\n",
    "for i in range(18):\n",
    "    for j in range(4):\n",
    "        forward(50)\n",
    "        left(90)\n",
    "    left(20)\n",
    "right(90)\n",
    "forward(250)\n",
    "\n",
    "for i in range(5):\n",
    "    circle(i*5)\n",
    "left(180)\n",
    "forward(45)\n",
    "for j in range(5):\n",
    "    circle(j*5)\n",
    "forward(45)\n",
    "right(180)\n",
    "for k in range(5):\n",
    "    circle(k*5)\n",
    "forward(45)\n",
    "left(180)\n",
    "forward(90)\n",
    "for l in range(5):\n",
    "    circle(l*5)\n",
    "\n",
    "exitonclick()"
   ]
  },
  {
   "cell_type": "markdown",
   "metadata": {
    "slideshow": {
     "slide_type": "slide"
    }
   },
   "source": [
    "## Obecné připomínky a rady"
   ]
  },
  {
   "cell_type": "markdown",
   "metadata": {
    "slideshow": {
     "slide_type": "-"
    }
   },
   "source": [
    "* K importům:\n",
    "    * Importy provádíme vždy na prvních řádcích programu a v rámci programu pouze jednou.\n",
    "    * Snažíme se nepoužívat importy s hvězdičkou.\n",
    "    * Neimportujeme nic co pak v programu nepoužijeme.\n",
    "* Ke komentářům:\n",
    "    * Nezakomentováváme programy nebo jednotlivé úlohy v nich.\n",
    "    * Není třeba psát komentáře k tomu, co je zcela jasné. Je to ale pořád lepší než je nepsat vůbec.\n",
    "    * Komentáře je lepší a jednodušší psát nad nebo pod kód místo vedle něj. Obzvlášť pokud má komentovaná část kódu několik řádků.\n",
    "* Ke stylu:\n",
    "    * Zkuste nedělat extra dlouhé řádky. Maximum je takových 100 znaků.\n",
    "    * Kód nemusí být elegantní, hlavně když funguje (alespoň pro začátek).\n",
    "* Díky všem, kteří zrychlili želvičku."
   ]
  }
 ],
 "metadata": {
  "celltoolbar": "Slideshow",
  "kernelspec": {
   "display_name": "Python 3",
   "language": "python",
   "name": "python3"
  },
  "language_info": {
   "codemirror_mode": {
    "name": "ipython",
    "version": 3
   },
   "file_extension": ".py",
   "mimetype": "text/x-python",
   "name": "python",
   "nbconvert_exporter": "python",
   "pygments_lexer": "ipython3",
   "version": "3.7.0"
  }
 },
 "nbformat": 4,
 "nbformat_minor": 2
}
