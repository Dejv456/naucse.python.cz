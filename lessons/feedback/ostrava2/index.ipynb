{
 "cells": [
  {
   "cell_type": "markdown",
   "metadata": {},
   "source": [
    "# Zpětná vazba k domácím projektům\n",
    "\n"
   ]
  },
  {
   "cell_type": "markdown",
   "metadata": {},
   "source": [
    "## Použiji proměnnou, která neexistuje"
   ]
  },
  {
   "cell_type": "code",
   "execution_count": 1,
   "metadata": {},
   "outputs": [
    {
     "ename": "NameError",
     "evalue": "name 'strana' is not defined",
     "output_type": "error",
     "traceback": [
      "\u001b[1;31m---------------------------------------------------------------------------\u001b[0m",
      "\u001b[1;31mNameError\u001b[0m                                 Traceback (most recent call last)",
      "\u001b[1;32m<ipython-input-1-5755e86bb26d>\u001b[0m in \u001b[0;36m<module>\u001b[1;34m\u001b[0m\n\u001b[1;32m----> 1\u001b[1;33m \u001b[0mprint\u001b[0m\u001b[1;33m(\u001b[0m\u001b[1;34m'Obvod čtverce je: '\u001b[0m\u001b[1;33m,\u001b[0m \u001b[1;36m4\u001b[0m\u001b[1;33m*\u001b[0m\u001b[0mstrana\u001b[0m\u001b[1;33m)\u001b[0m\u001b[1;33m\u001b[0m\u001b[0m\n\u001b[0m\u001b[0;32m      2\u001b[0m \u001b[0mstrana\u001b[0m \u001b[1;33m=\u001b[0m \u001b[1;36m10\u001b[0m\u001b[1;33m\u001b[0m\u001b[0m\n",
      "\u001b[1;31mNameError\u001b[0m: name 'strana' is not defined"
     ]
    }
   ],
   "source": [
    "print('Obvod čtverce je: ', 4*strana)\n",
    "strana = 10"
   ]
  },
  {
   "cell_type": "markdown",
   "metadata": {},
   "source": [
    "## ASCII tabulka"
   ]
  },
  {
   "cell_type": "code",
   "execution_count": null,
   "metadata": {},
   "outputs": [],
   "source": [
    "'abc' > 'Abc'"
   ]
  },
  {
   "cell_type": "markdown",
   "metadata": {},
   "source": [
    "**PROČ?**"
   ]
  },
  {
   "cell_type": "markdown",
   "metadata": {},
   "source": [
    "Existuje něco jménem [ASCII tabulka](http://znakynaklavesnici.cz/ascii-tabulka/), která každému znaku přiřazuje číselnou hodnotu. V Pythonu tohle číslo lze získat pomocí funkce ord, např. ord(\"a\"). Protože velké A má číselnou hodnotu 65 a malé \"a\" má 97, platí, že \"A\" < \"a\"."
   ]
  },
  {
   "cell_type": "markdown",
   "metadata": {},
   "source": [
    "## KÁMEN - NŮŽKY - PAPÍR\n",
    "**Je možné toto zjednodušit?**"
   ]
  },
  {
   "cell_type": "code",
   "execution_count": null,
   "metadata": {},
   "outputs": [],
   "source": [
    "tah_cloveka = 'kámen'\n",
    "tah_pocitace = 'papír'\n",
    "\n",
    "if tah_cloveka == 'kámen' and tah_pocitace == 'kámen'or tah_cloveka == 'nůžky' and tah_pocitace == 'nůžky' or tah_cloveka == 'papír' and tah_pocitace == 'papír':\n",
    "    print('Plichta.')\n",
    "elif tah_cloveka == 'kámen' and tah_pocitace == 'nůžky' or tah_cloveka == 'nůžky'and tah_pocitace == 'papír' or tah_cloveka == 'papír' and tah_pocitace == 'kámen':\n",
    "    print('Vyhrála jsi!')\n",
    "elif tah_cloveka == 'kámen' and tah_pocitace == 'papír'or tah_cloveka == 'papír' and tah_pocitace == 'nůžky' or tah_cloveka == 'nůžky' and tah_pocitace == 'kámen':\n",
    "    print('Počítač vyhrál.')"
   ]
  },
  {
   "cell_type": "markdown",
   "metadata": {},
   "source": [
    "## Ano je !"
   ]
  },
  {
   "cell_type": "code",
   "execution_count": null,
   "metadata": {},
   "outputs": [],
   "source": [
    "tah_cloveka = 'kámen'\n",
    "tah_pocitace = 'papír'\n",
    "\n",
    "if tah_cloveka ==  tah_pocitace:\n",
    "    print('Plichta.')\n",
    "elif tah_cloveka == 'kámen' and tah_pocitace == 'nůžky' or tah_cloveka == 'nůžky'and tah_pocitace == 'papír' or tah_cloveka == 'papír' and tah_pocitace == 'kámen':\n",
    "    print('Vyhrála jsi!')\n",
    "else:\n",
    "    print('Počítač vyhrál.')"
   ]
  },
  {
   "cell_type": "markdown",
   "metadata": {},
   "source": [
    "## Najdi chyby 1"
   ]
  },
  {
   "cell_type": "markdown",
   "metadata": {},
   "source": [
    "Tento kousek kódu, který se stará o výběr tahu počítače na základě náhodně vygenerovaného čísla, může vypada na první pohled správně, ale ve skutečnosti jej stačí párkrát spustit a chybička se projeví."
   ]
  },
  {
   "cell_type": "code",
   "execution_count": null,
   "metadata": {},
   "outputs": [],
   "source": [
    "from random import randrange\n",
    "cislo = randrange(2)\n",
    "\n",
    "if cislo == 0:\n",
    "    tah_pocitace = \"kámen\"\n",
    "    print(\"Počítač vybral kámen.\")\n",
    "if cislo == 1:\n",
    "    print(\"Počítač vybral nůžky.\")\n",
    "    tah_pocitace = \"nůžky\"\n",
    "else:\n",
    "    tah_pocitace = \"papír\"\n",
    "    print(\"Počítač vybral papír.\")"
   ]
  },
  {
   "cell_type": "markdown",
   "metadata": {},
   "source": [
    "**SPRÁVNÉ ŘEŠENÍ**"
   ]
  },
  {
   "cell_type": "markdown",
   "metadata": {},
   "source": [
    "Chybička byla v záměně **elif** za další **if** což způsobilo rozdělení jedné podmínky se třemi větvemi na dvě samostatné podmínky, z nichž ta první měla jen jednu větev (jen jeden if) a ta druhá dvě (jeden if a jeden else).\n",
    "\n",
    "Další chyba pak byla v generování náhodných čísel, protože **randrange(2)** vrátí vždy jen 0 nebo 1."
   ]
  },
  {
   "cell_type": "code",
   "execution_count": null,
   "metadata": {},
   "outputs": [],
   "source": [
    "from random import randrange\n",
    "cislo = randrange(3)\n",
    "\n",
    "if cislo == 0:\n",
    "    tah_pocitace = \"kámen\"\n",
    "    print(\"Počítač vybral kámen.\")\n",
    "elif cislo == 1:\n",
    "    print(\"Počítač vybral nůžky.\")\n",
    "    tah_pocitace = \"nůžky\"\n",
    "else:\n",
    "    tah_pocitace = \"papír\"\n",
    "    print(\"Počítač vybral papír.\")"
   ]
  },
  {
   "cell_type": "markdown",
   "metadata": {},
   "source": [
    "**JDE TO JEŠTĚ VYLEPŠIT??**"
   ]
  },
  {
   "cell_type": "code",
   "execution_count": null,
   "metadata": {},
   "outputs": [],
   "source": [
    "from random import randrange\n",
    "cislo = randrange(3)\n",
    "\n",
    "if cislo == 0:\n",
    "    tah_pocitace = \"kámen\"\n",
    "elif cislo == 1:\n",
    "    tah_pocitace = \"nůžky\"\n",
    "else:\n",
    "    tah_pocitace = \"papír\"\n",
    "\n",
    "print('Počítač vybral', tah_pocitace)"
   ]
  },
  {
   "cell_type": "markdown",
   "metadata": {},
   "source": [
    "## Najdi chyby 2"
   ]
  },
  {
   "cell_type": "markdown",
   "metadata": {},
   "source": [
    "Copak se asi stane s proměnnou strana ještě před výpočtem povrchu a objemu?"
   ]
  },
  {
   "cell_type": "code",
   "execution_count": null,
   "metadata": {},
   "outputs": [],
   "source": [
    "strana = int(input('Zadej velikost strany v cm: '))\n",
    "strana = 2852\n",
    "print('Objem krychle o straně',strana,'cm je', strana**3,'cm3')\n",
    "print('Obsah krychle o straně',strana,'cm je', 6*strana**2,'cm2')"
   ]
  },
  {
   "cell_type": "markdown",
   "metadata": {},
   "source": [
    "## Bohatá a šťastná"
   ]
  },
  {
   "cell_type": "markdown",
   "metadata": {},
   "source": [
    "Několik možných řešení programu šťastná-bohatá. Všechny dělají totéž, ale některé jsou zkrátka lépe čitelné a kompaktnější.\n",
    "**ŘEŠENÍ 1**"
   ]
  },
  {
   "cell_type": "code",
   "execution_count": null,
   "metadata": {},
   "outputs": [],
   "source": [
    "print('Odpovídej \"ano\" nebo \"ne\".')\n",
    "stastna = input('Jsi šťastná? ')\n",
    "bohata = input('jsi bohatá? ')\n",
    "\n",
    "if stastna == 'ano':\n",
    "    if bohata == 'ano':\n",
    "        print('Gratuluji')\n",
    "    elif bohata == 'ne':\n",
    "        print('zkus míň utrácet')\n",
    "\n",
    "elif stastna == 'ne':\n",
    "    if bohata == 'ne':\n",
    "        print('to je mi líto')\n",
    "    elif bohata == 'ano':\n",
    "        print('zkus se víc usmívat')\n",
    "\n",
    "else:\n",
    "    print('nerozumím')"
   ]
  },
  {
   "cell_type": "markdown",
   "metadata": {},
   "source": [
    "**ŘEŠENÍ 2**"
   ]
  },
  {
   "cell_type": "code",
   "execution_count": null,
   "metadata": {},
   "outputs": [],
   "source": [
    "print('Odpovídej \"ano\" nebo \"ne\".')\n",
    "stastna_retezec = input('Jsi šťastná? ')\n",
    "if stastna_retezec == 'ano':\n",
    "    stastna = True\n",
    "elif stastna_retezec == 'Ano':\n",
    "    stastna = True\n",
    "elif stastna_retezec == 'ne':\n",
    "    stastna = False\n",
    "elif stastna_retezec == 'Ne':\n",
    "    stastna = False\n",
    "else:\n",
    "    print('Nerozumím!')\n",
    "\n",
    "bohata_retezec = input('Jsi bohatá? ')\n",
    "if bohata_retezec == 'ano':\n",
    "    bohata = True\n",
    "elif bohata_retezec == 'Ano':\n",
    "    bohata = True\n",
    "elif bohata_retezec == 'ne':\n",
    "    bohata = False\n",
    "elif bohata_retezec == 'Ne':\n",
    "    bohata = False\n",
    "else:\n",
    "    print('Nerozumím!')\n",
    "\n",
    "if bohata:\n",
    "    if stastna:\n",
    "    # Je bohatá a zároveň štǎstná, ta se má.\n",
    "        print('Gratuluji!')\n",
    "elif bohata:\n",
    "    # Je bohatá, ale není „bohatá a zároveň šťastná“,\n",
    "    # takže musí být jen bohatá.\n",
    "    print('Zkus se víc usmívat.')\n",
    "elif stastna:\n",
    "    # Tady musí být jen šťastná.\n",
    "    print('Zkus míň utrácet.')\n",
    "else:\n",
    "    # A tady víme, že není ani šťastná, ani bohatá.\n",
    "    print('To je mi líto.')"
   ]
  },
  {
   "cell_type": "markdown",
   "metadata": {},
   "source": [
    "**ŘEŠENÍ 3**"
   ]
  },
  {
   "cell_type": "code",
   "execution_count": null,
   "metadata": {},
   "outputs": [],
   "source": [
    "print('Odpovídej \"ano\" nebo \"ne\".')\n",
    "stastna_retezec = input('Jsi šťastná? ')\n",
    "bohata_retezec = input('Jsi bohatá? ')\n",
    "\n",
    "if stastna_retezec == \"ano\":\n",
    "    if bohata_retezec == \"ano\":\n",
    "        print(\"Gratuluji.\")\n",
    "    else:\n",
    "        print(\"Zkus míň utrácet.\")\n",
    "        \n",
    "elif bohata_retezec == \"ano\":\n",
    "    print(\"Zkus se více usmívat.\")\n",
    "    \n",
    "else:\n",
    "    print(\"To je mi líto.\")"
   ]
  },
  {
   "cell_type": "markdown",
   "metadata": {},
   "source": [
    "## Obecné rady, prosby a doporučení"
   ]
  },
  {
   "cell_type": "markdown",
   "metadata": {},
   "source": [
    "* Používání nových (neprobraných) funkcionalit --> ANO/NE?\n",
    "* Názvy proměnných mají mít vysvětlující charakter, takže jednoznakové názvy jsou zapovězeny.\n",
    "* Pište komentáře. Když narazíme na špatné řešení, snáze se nám radí, když vím, jak jste se k němu dostaly a na co jste při tom myslely. Komentáře ke standardním věcem psát netřeba.\n",
    "* Odevzdávejte nejpozději v neděli večer, konzultujte na Slacku\n",
    "* Spouštějte svůj program opakovaně, snažte se simulovat všechny možnosti, které mohou nastat"
   ]
  }
 ],
 "metadata": {
  "kernelspec": {
   "display_name": "Python 3",
   "language": "python",
   "name": "python3"
  },
  "language_info": {
   "codemirror_mode": {
    "name": "ipython",
    "version": 3
   },
   "file_extension": ".py",
   "mimetype": "text/x-python",
   "name": "python",
   "nbconvert_exporter": "python",
   "pygments_lexer": "ipython3",
   "version": "3.7.0"
  }
 },
 "nbformat": 4,
 "nbformat_minor": 2
}
